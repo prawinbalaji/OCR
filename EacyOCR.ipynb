{
  "cells": [
    {
      "cell_type": "code",
      "execution_count": null,
      "metadata": {
        "id": "jv9BFCx8D9HM"
      },
      "outputs": [],
      "source": [
        "from google.colab import drive"
      ]
    },
    {
      "cell_type": "code",
      "execution_count": null,
      "metadata": {
        "id": "o-deHFS-EE70"
      },
      "outputs": [],
      "source": [
        "drive.mount('/content/drive')"
      ]
    },
    {
      "cell_type": "code",
      "execution_count": null,
      "metadata": {
        "id": "V7WJNaZ7I_05"
      },
      "outputs": [],
      "source": [
        "!pip install easyocr"
      ]
    },
    {
      "cell_type": "code",
      "execution_count": null,
      "metadata": {
        "id": "vZfwJ3lfJKd6"
      },
      "outputs": [],
      "source": [
        "from PIL import Image\n",
        "import easyocr\n",
        "import argparse\n",
        "import cv2\n",
        "import os\n",
        "import pandas as pd\n",
        "import seaborn as sns\n",
        "import matplotlib.pyplot as plt\n",
        "import numpy as np\n",
        "import csv\n",
        "import nltk\n",
        "import re\n",
        "from nltk.tokenize import word_tokenize\n",
        "from nltk.corpus import wordnet"
      ]
    },
    {
      "cell_type": "code",
      "execution_count": null,
      "metadata": {
        "id": "PYhhlW0JJSak"
      },
      "outputs": [],
      "source": [
        "from IPython.display import Image\n",
        "Image(filename=r\"/content/drive/MyDrive/naren.jpg\")"
      ]
    },
    {
      "cell_type": "code",
      "execution_count": null,
      "metadata": {
        "id": "_V67DGjeJX0o"
      },
      "outputs": [],
      "source": [
        "image=cv2.imread('/content/drive/MyDrive/naren.jpg',0)"
      ]
    },
    {
      "cell_type": "code",
      "execution_count": null,
      "metadata": {
        "id": "_VPqqRyiJezN"
      },
      "outputs": [],
      "source": [
        "reader = easyocr.Reader(['en', 'hi'], gpu=True)\n",
        "result = reader.readtext('/content/drive/MyDrive/naren.jpg')"
      ]
    },
    {
      "cell_type": "code",
      "execution_count": null,
      "metadata": {
        "id": "s2LdgKlXLb77"
      },
      "outputs": [],
      "source": [
        "text1 = reader.readtext('/content/drive/MyDrive/naren.jpg', detail = 1, paragraph = False)"
      ]
    },
    {
      "cell_type": "code",
      "source": [
        "#@title Default title text\n",
        "print(text1)"
      ],
      "metadata": {
        "cellView": "code",
        "id": "LN02SIpwKRlu"
      },
      "execution_count": null,
      "outputs": []
    },
    {
      "cell_type": "code",
      "source": [
        "'''for (bbox, text, prob) in text1:\n",
        "    (tl, tr, br, bl) = bbox\n",
        "    tl =(int(tl[0]), int(tl[1]))\n",
        "    tr =(int(tr[0]), int(tr[1]))\n",
        "    br =(int(br[0]), int(br[1]))\n",
        "    bl =(int(bl[0]), int(bl[1]))\n",
        "\n",
        "text = \"\".join([c if ord(c) < 128 else \"\" for c in text]).strip()\n",
        "\n",
        "cv2.rectangle(text1, tl, br, (0,255, 0), 2)\n",
        "cv2.putText(text1, text, (tl[0], tl[1] - 10),\n",
        "           cv2.FONT_HERSHEY_SIMPLEX, 0.8, (0, 255, 0), 2)\n",
        "cv2.imshow(\"Image\", text1)\n",
        "cv2.waitkey(0)'''"
      ],
      "metadata": {
        "id": "_PPcMst4OYKw"
      },
      "execution_count": null,
      "outputs": []
    },
    {
      "cell_type": "code",
      "source": [
        "new_word = word_tokenize(text)\n",
        "\n",
        "        #id_card\n",
        "\n",
        "        id_card = []\n",
        "        for syn in wordnet.synsets(\"id_card\"):\n",
        "            for l in syn.lemmas():\n",
        "                id_card.append(l.name())\n",
        "\n",
        "        l=['parent','blood','group','address','thaluk','student','validity','numbers']\n",
        "        id_card=id_card+l\n",
        "\n",
        "        #pan_card\n",
        "\n",
        "        pan_card = []\n",
        "        for syn in wordnet.synsets(\"pan_card\"):\n",
        "            for l in syn.lemmas():\n",
        "                pan_card.append(l.name())\n",
        "\n",
        "        l1=['income','tax','department','govt','india','permanant','account','number','card']\n",
        "        pan_card=pan_card+l1\n",
        "\n",
        "        # Checking the uploaded image and categorizing  it\n",
        "\n",
        "        id = 0\n",
        "        pan = 0\n",
        "\n",
        "        for word in new_word:\n",
        "            if word in id_card:\n",
        "                id = True\n",
        "                #print(word)\n",
        "                break\n",
        "            elif word in pan_card:\n",
        "                pan = True\n",
        "               #print(word)\n",
        "                break\n",
        "\n",
        "\n",
        "        if(id):\n",
        "            for i in range(0,len(new_word)-1):\n",
        "                if (new_word[i] == 'group'):\n",
        "                    if (new_word[i+2] == '+ve' or new_word[i+2] == '-ve'):\n",
        "                        bg = (new_word[i+1]) + (new_word[i+2])\n",
        "                        # print(bg)\n",
        "                    elif (new_word[i+2] == 'tve'):\n",
        "                        bg = (new_word[i+1]) + '+ve'\n",
        "                        # print(bg)\n",
        "                    else:\n",
        "                        bg = (new_word[i+1])\n",
        "                        # print(bg)\n",
        "            match=re.findall(r'\\d+[/.-]\\d+[/.-]\\d+', text)\n",
        "            DOB=\" \"\n",
        "            DOB=DOB.join(match)\n",
        "            #print(DOB)\n",
        "            ph = re.findall('[0-9+]{10}', text)\n",
        "            #print(ph)\n",
        "        elif(pan):\n",
        "            match=re.findall(r'\\d+[/.-]\\d+[/.-]\\d+', text)\n",
        "            DOB=\" \"\n",
        "            DOB=DOB.join(match)\n",
        "            #print(DOB)\n",
        "            match=re.findall(r'[a-z]+[a-z]+[a-z]+[a-z]+[a-z]+\\d+\\d+\\d+[a-z]', text)\n",
        "            PANno=\" \"\n",
        "            PANno=PANno.join(match)\n",
        "            #print(PANno)\n",
        "            flag = 0\n",
        "            for i in new_word:\n",
        "                if i == \"name\":\n",
        "                    index = new_word.index(i)\n",
        "                    Name = new_word[index+1] + ' ' +  new_word[index+2]\n",
        "                    #print(string)\n",
        "                    flag = 1\n",
        "                    break\n",
        "                if flag == 0:\n",
        "                    for i in new_word:\n",
        "                        if i == \"india\":\n",
        "                            index = new_word.index(i)\n",
        "                            Name = new_word[index+1] + ' ' + new_word[index+2]\n",
        "                            #print(string)\n",
        "                            break\n",
        "\n",
        "        if(id):\n",
        "            #print(\"ID_card\")\n",
        "            filename = '{}.csv'.format('idcard')\n",
        "            df = pd.read_csv('idcard.csv')\n",
        "            row_contents = [bg,DOB,ph[0]]\n",
        "            from csv import writer\n",
        "            def append_list_as_row(file, list_of_elem):\n",
        "                with open(file, 'a+', newline='') as write_obj:\n",
        "                    csv_writer = writer(write_obj)\n",
        "                    csv_writer.writerow(list_of_elem)\n",
        "            append_list_as_row(filename, row_contents)\n",
        "        elif(pan):\n",
        "            #print(\"PAN_card\")\n",
        "            filename = '{}.csv'.format('pancard')\n",
        "            df = pd.read_csv('pancard.csv')\n",
        "            row_contents = [Name,DOB,PANno]\n",
        "            from csv import writer\n",
        "            def append_list_as_row(file, list_of_elem):\n",
        "                with open(file, 'a+', newline='') as write_obj:\n",
        "                    csv_writer = writer(write_obj)\n",
        "                    csv_writer.writerow(list_of_elem)\n",
        "            append_list_as_row(filename, row_contents)\n",
        "\n",
        "        return ('ID_card' if id > 0 else 'PAN_card')"
      ],
      "metadata": {
        "id": "nlf9jC8PSEWW"
      },
      "execution_count": null,
      "outputs": []
    },
    {
      "cell_type": "code",
      "execution_count": null,
      "metadata": {
        "id": "hw7cbi7uMEFJ",
        "colab": {
          "base_uri": "https://localhost:8080/"
        },
        "outputId": "1b99cecf-5b91-4c0d-aac8-467a218beb06"
      },
      "outputs": [
        {
          "output_type": "execute_result",
          "data": {
            "text/plain": [
              "True"
            ]
          },
          "metadata": {},
          "execution_count": 12
        }
      ],
      "source": [
        "nltk.download('punkt',quiet=True)\n",
        "nltk.download('wordnet',quiet=True)"
      ]
    },
    {
      "cell_type": "code",
      "execution_count": null,
      "metadata": {
        "id": "bXNWrbOmMLEQ"
      },
      "outputs": [],
      "source": [
        "new_word = word_tokenize(str(text1))"
      ]
    },
    {
      "cell_type": "code",
      "execution_count": null,
      "metadata": {
        "id": "pROPF7Gpga0x"
      },
      "outputs": [],
      "source": [
        "print(new_word)"
      ]
    },
    {
      "cell_type": "code",
      "source": [
        "#id_card\n",
        "id_card = []\n",
        "for syn in wordnet.synsets(\"id_card\"):\n",
        "    for l in syn.lemmas():\n",
        "        id_card.append(l.name())\n",
        "\n",
        "l=['parent','blood','group','address','thaluk','student','validity','numbers']\n",
        "id_card=id_card+l"
      ],
      "metadata": {
        "id": "1Zm2OoE7Rmn9"
      },
      "execution_count": null,
      "outputs": []
    },
    {
      "cell_type": "markdown",
      "metadata": {
        "id": "OFaRtryyPlY4"
      },
      "source": [
        "Creating CSV file"
      ]
    },
    {
      "cell_type": "code",
      "source": [
        "pan_card = []\n",
        "for syn in wordnet.synsets(\"pan_card\"):\n",
        "    for l in syn.lemmas():\n",
        "        pan_card.append(l.name())\n",
        "\n",
        "l1=['income','tax','department','govt','india','permanant','account','number','card']\n",
        "pan_card=pan_card+l1"
      ],
      "metadata": {
        "id": "3cvOH8ILRQGS"
      },
      "execution_count": null,
      "outputs": []
    },
    {
      "cell_type": "code",
      "source": [
        "#here we will check that the bill belongs to which category\n",
        "#we will make that category true.\n",
        "id = 0\n",
        "pan = 0\n",
        "for word in new_word:\n",
        "    if word in id_card:\n",
        "        id = True\n",
        "        print(word)\n",
        "        break\n",
        "    elif word in pan_card:\n",
        "        pan = True\n",
        "        print(word)"
      ],
      "metadata": {
        "id": "LPUbvOZeRZHa"
      },
      "execution_count": null,
      "outputs": []
    },
    {
      "cell_type": "code",
      "source": [
        "pan"
      ],
      "metadata": {
        "id": "u2QE0d0kRroC"
      },
      "execution_count": null,
      "outputs": []
    },
    {
      "cell_type": "code",
      "execution_count": null,
      "metadata": {
        "id": "wAkb3blZPj6z"
      },
      "outputs": [],
      "source": [
        "with open('pancard.csv', 'a', newline='') as csvfile:\n",
        "    spamwriter = csv.writer(csvfile, delimiter=',',quoting=csv.QUOTE_MINIMAL)\n",
        "    spamwriter.writerow(['Name','DOB','PAN card number'])"
      ]
    },
    {
      "cell_type": "code",
      "execution_count": null,
      "metadata": {
        "id": "HMLshEVqPtyx"
      },
      "outputs": [],
      "source": [
        "''' for i in new_word:\n",
        "    if i == \"card\":\n",
        "        index = new_word.index(i)\n",
        "        PANno = new_word[index+1]\n",
        "        print(PANno) '''\n",
        "\n",
        "match=re.findall(r'[a-z]+[a-z]+[a-z]+[a-z]+[a-z]+\\d+\\d+\\d+[a-z]', str(text1))\n",
        "\n",
        "PANno=\" \"\n",
        "PANno=PANno.join(match)\n",
        "print(PANno)"
      ]
    },
    {
      "cell_type": "code",
      "execution_count": null,
      "metadata": {
        "id": "MFjwnmKST8yi"
      },
      "outputs": [],
      "source": [
        "match=re.findall(r'\\d+[/.-]\\d+[/.-]\\d+', str(text1))\n",
        "\n",
        "DOB=\" \"\n",
        "DOB=DOB.join(match)\n",
        "print(DOB)"
      ]
    },
    {
      "cell_type": "code",
      "execution_count": null,
      "metadata": {
        "id": "zrKAvD2uUCmd"
      },
      "outputs": [],
      "source": [
        "flag = 0\n",
        "\n",
        "for i in new_word:\n",
        "    if i == \"name\":\n",
        "            index = new_word.index(i)\n",
        "            Name = new_word[index+1]\n",
        "            new_Name = new_word[index+2]\n",
        "            list = [Name, new_Name]\n",
        "            string = \" \".join(list)\n",
        "            print(string)\n",
        "            flag = 1\n",
        "            break\n",
        "\n",
        "if flag == 0:\n",
        "    for i in new_word:\n",
        "        if i == \"india\":\n",
        "            index = new_word.index(i)\n",
        "            Name = new_word[index+1]\n",
        "            new_Name = new_word[index+2]\n",
        "            list = [Name, new_Name]\n",
        "            string = \" \".join(list)\n",
        "            print(string)\n",
        "            break"
      ]
    },
    {
      "cell_type": "code",
      "execution_count": null,
      "metadata": {
        "id": "aF9qWwctUHHq"
      },
      "outputs": [],
      "source": [
        "filename='{}.csv'.format('pancard')\n",
        "df=pd.read_csv('pancard.csv')"
      ]
    },
    {
      "cell_type": "code",
      "execution_count": null,
      "metadata": {
        "id": "zpobm_G6UK7_"
      },
      "outputs": [],
      "source": [
        "row_contents = [Name,DOB,PANno]\n",
        "from csv import writer\n",
        "\n",
        "def append_list_as_row(file, list_of_elem):\n",
        "\n",
        "    with open(file, 'a+', newline='') as write_obj:\n",
        "\n",
        "        csv_writer = writer(write_obj)\n",
        "\n",
        "        csv_writer.writerow(list_of_elem)\n",
        "append_list_as_row(filename, row_contents)"
      ]
    }
  ],
  "metadata": {
    "accelerator": "GPU",
    "colab": {
      "provenance": [],
      "gpuType": "T4",
      "mount_file_id": "1eVYMTjXB_MyxZZV5APZqCfdd8vYscWYg",
      "authorship_tag": "ABX9TyM7R+3ewe2BDcSO7NB2yDtl"
    },
    "gpuClass": "standard",
    "kernelspec": {
      "display_name": "Python 3",
      "name": "python3"
    },
    "language_info": {
      "name": "python"
    }
  },
  "nbformat": 4,
  "nbformat_minor": 0
}